{
 "cells": [
  {
   "cell_type": "markdown",
   "id": "9303325c",
   "metadata": {},
   "source": [
    "# 자료구조와 배열\n",
    "- 자료구조(資料構造, data structure)는 데이터 단위와 데이터 자체 사이의 물리적 또는 논리적인 관계\n",
    "- 쉽게말해 데이터가 모여 있는 구조이다."
   ]
  },
  {
   "cell_type": "markdown",
   "id": "d70de0c4",
   "metadata": {},
   "source": [
    "- 리스트 & 튜플\n",
    "- 리스트와 튜플의 차이점\n",
    "리스트: 값 변경O             튜플: 값 변경X\n",
    "리스트: 이터러블             튜플: 이터러블\n",
    "리스트: 딕셔너리의 key사용X  튜플: 딕셔너리의 key사용O"
   ]
  },
  {
   "cell_type": "markdown",
   "id": "38a097d7",
   "metadata": {},
   "source": [
    "#### 배열\n",
    "- 배열: 같은 타입의 변수들로 이루어진 유한 집합\n",
    "\n",
    "- 배열 원소의 최대값을 구하는 함수 구현하기"
   ]
  },
  {
   "cell_type": "code",
   "execution_count": null,
   "id": "374c74c5",
   "metadata": {},
   "outputs": [
    {
     "name": "stdout",
     "output_type": "stream",
     "text": [
      "배열의 최대값을 구합니다\n"
     ]
    }
   ],
   "source": [
    "### 시퀀스 원소의 최대값 출력하기\n",
    "from typing import Any, Sequence\n",
    "\n",
    "def max_of(a: Sequence) -> Any:    #Any= 제약없는 임의의 자료형,Sequence=시퀀스형 자료형\n",
    "    \"\"\"시퀀스형 a원소의 최대값을 반환\"\"\"                          #시퀀스형 = 튜플, 리스트,문자열 등\n",
    "    maximum = a[0]            \n",
    "    for i in range(1,len(a)):\n",
    "        if a[i] > maximum:\n",
    "            maximum = a[i]\n",
    "    return maximum\n",
    "\n",
    "if __name__ == '__main__':   \n",
    "    print('배열의 최대값을 구합니다')\n",
    "    num = int(input('원소의 수를 입력하십시오. :'))\n",
    "    \n",
    "    x = [None] * num #원소 수가 num인 리스트 생성\n",
    "    \n",
    "    for i in range(num):\n",
    "        x[i] = int(input(f'x[{i}]값을 입력하세요. :'))\n",
    "        \n",
    "    print(f'최대값은 {max_of(x)}입니다.')"
   ]
  },
  {
   "cell_type": "markdown",
   "id": "3d08419a",
   "metadata": {},
   "source": [
    "### 코드해석\n",
    "- 3행: 건네받는 매개변수 a의 자료형은 Sequence이고, 반환하는것은 임의의 자료형인 Any이다.\n",
    "- max_of()함수의 특성: 배열a의 원소값 변경X, 넘겨주는 실제 인수의 자료형은 시퀀스형이면 상관없다."
   ]
  },
  {
   "cell_type": "markdown",
   "id": "aac27995",
   "metadata": {},
   "source": [
    "## 재사용할 수 있는 모듈 작성하기\n",
    "### 모듈 : 하나의 스크립트 프로그램 (.py로 되어있는 파일의 .앞부분){파일이름}\n",
    "\n",
    "- 11행 : __name__ == '__main__'이 같은지를 판단하는데, __name__은 모듈이름을 나타냄.!!\n",
    "- 11행 : 스크립트 프로그램이 직접실행될 때 변수 __name__은 '__main__'이다. (함수호출 가능)\n",
    "- 11행 : 스크립트 프로그램이 임포트 될 때 변수 __name__은 원래의 모듈이름이다.\n",
    "\n",
    "---> 요약 : 직접 파일을 열어서 실행하는 경우에만 if문이 참이 되어 돌아간다!!\n",
    "- 실제로 되는지 안되는지 확인해보자."
   ]
  },
  {
   "cell_type": "code",
   "execution_count": 1,
   "id": "b7fcb6a6",
   "metadata": {},
   "outputs": [
    {
     "ename": "ModuleNotFoundError",
     "evalue": "No module named 'max'",
     "output_type": "error",
     "traceback": [
      "\u001b[1;31m---------------------------------------------------------------------------\u001b[0m",
      "\u001b[1;31mModuleNotFoundError\u001b[0m                       Traceback (most recent call last)",
      "\u001b[1;32m~\\AppData\\Local\\Temp\\ipykernel_7992\\3697201810.py\u001b[0m in \u001b[0;36m<module>\u001b[1;34m\u001b[0m\n\u001b[0;32m      1\u001b[0m \u001b[1;31m# 배열 원소의 최대값을 구해서 출력하기 (원소값을 입력받음)\u001b[0m\u001b[1;33m\u001b[0m\u001b[1;33m\u001b[0m\u001b[0m\n\u001b[0;32m      2\u001b[0m \u001b[1;33m\u001b[0m\u001b[0m\n\u001b[1;32m----> 3\u001b[1;33m \u001b[1;32mfrom\u001b[0m \u001b[0mmax\u001b[0m \u001b[1;32mimport\u001b[0m \u001b[0mmax_of\u001b[0m\u001b[1;33m\u001b[0m\u001b[1;33m\u001b[0m\u001b[0m\n\u001b[0m\u001b[0;32m      4\u001b[0m \u001b[1;33m\u001b[0m\u001b[0m\n\u001b[0;32m      5\u001b[0m \u001b[0mprint\u001b[0m\u001b[1;33m(\u001b[0m\u001b[1;34m'배열의 최대값을 구합니다.'\u001b[0m\u001b[1;33m)\u001b[0m\u001b[1;33m\u001b[0m\u001b[1;33m\u001b[0m\u001b[0m\n",
      "\u001b[1;31mModuleNotFoundError\u001b[0m: No module named 'max'"
     ]
    }
   ],
   "source": [
    "# 배열 원소의 최대값을 구해서 출력하기 (원소값을 입력받음)\n",
    "\n",
    "from max import max_of\n",
    "\n",
    "print('배열의 최대값을 구합니다.')\n",
    "print('주의: \"End\"를 입력하면 종료합니다.')\n",
    "\n",
    "number = 0\n",
    "x = []\n",
    "\n",
    "while True:\n",
    "    s = input(f'x[{number}]값을 입력하세요. :')\n",
    "    if s== 'End':\n",
    "        break\n",
    "    x.append(int(s))   # 배열의 맨 끝에 추가\n",
    "    number += 1\n",
    "    \n",
    "print(f'{number}개를 입력했습니다.')\n",
    "print(f'최대값은 {max_of(x)}입니다.')\n",
    "\n",
    "# 성공적으로 함수가 실행되지 않는다."
   ]
  },
  {
   "cell_type": "code",
   "execution_count": 2,
   "id": "0b74b0e5",
   "metadata": {},
   "outputs": [
    {
     "name": "stdout",
     "output_type": "stream",
     "text": [
      "배열의 최대값을 구합니다\n",
      "난수의 수를 입력하십시오. :20\n",
      "난수의 최소값을 입력하십시오. :0\n",
      "난수의 최대값을 입력하십시오. :1000\n",
      "최대값은 992입니다.\n"
     ]
    }
   ],
   "source": [
    "# 배열의 원소값을 난수로 결정하기\n",
    "\n",
    "import random\n",
    "from typing import Any, Sequence\n",
    "\n",
    "def max_of(a: Sequence) -> Any: \n",
    "    maximum = a[0]            \n",
    "    for i in range(1,len(a)):\n",
    "        if a[i] > maximum:\n",
    "            maximum = a[i]\n",
    "    return maximum\n",
    "\n",
    "if __name__ == '__main__':   \n",
    "    print('배열의 최대값을 구합니다')\n",
    "    num = int(input('난수의 수를 입력하십시오. :'))\n",
    "    lo = int(input('난수의 최소값을 입력하십시오. :'))\n",
    "    hi = int(input('난수의 최대값을 입력하십시오. :'))\n",
    "    x = [None] * num #원소 수가 num인 리스트 생성\n",
    "    \n",
    "    for i in range(num):\n",
    "        x[i] = random.randint(lo,hi)\n",
    "        \n",
    "    print(f'최대값은 {max_of(x)}입니다.')"
   ]
  },
  {
   "cell_type": "markdown",
   "id": "d797da85",
   "metadata": {},
   "source": [
    "### 튜플, 문자열, 문자열 리스트의 최대값 구하기"
   ]
  },
  {
   "cell_type": "code",
   "execution_count": 10,
   "id": "e5005234",
   "metadata": {},
   "outputs": [
    {
     "name": "stdout",
     "output_type": "stream",
     "text": [
      "(4, 7, 5.6, 2, 3.14, 1)의 최대값은 7입니다.\n",
      "string의 최대값은 t입니다.\n",
      "['DTS', 'AAC', 'FLAC']의 최대값은 FLAC입니다.\n"
     ]
    }
   ],
   "source": [
    "# 각 배열 원소의 최대값을 구해서 출력하기 (튜플, 문자열, 문자열 리스트)\n",
    "\n",
    "def max_of(a:Sequence) -> Any:\n",
    "    maximum = a[0]            \n",
    "    for i in range(1,len(a)):\n",
    "        if a[i] > maximum:\n",
    "            maximum = a[i]\n",
    "    return maximum\n",
    "\n",
    "t = (4,7,5.6,2,3.14,1)\n",
    "s = 'string'\n",
    "a = ['DTS','AAC','FLAC']\n",
    "\n",
    "print(f'{t}의 최대값은 {max_of(t)}입니다.')\n",
    "print(f'{s}의 최대값은 {max_of(s)}입니다.')\n",
    "print(f'{a}의 최대값은 {max_of(a)}입니다.')\n",
    "# 문자열 = 알파벳순 !!!"
   ]
  },
  {
   "cell_type": "markdown",
   "id": "7a9b7955",
   "metadata": {},
   "source": [
    "#### 이터러블한 객체 (반복가능한 객체) 실습"
   ]
  },
  {
   "cell_type": "code",
   "execution_count": 12,
   "id": "530292db",
   "metadata": {},
   "outputs": [
    {
     "name": "stdout",
     "output_type": "stream",
     "text": [
      "x[0] = John\n",
      "x[1] = George\n",
      "x[2] = Paul\n",
      "x[3] = Ringo\n"
     ]
    }
   ],
   "source": [
    "# 리스트의 모든 원소를 스캔하기 ( 원소 수를 미리 파악)\n",
    "\n",
    "x = ['John','George','Paul','Ringo']\n",
    "\n",
    "for i in range(len(x)):\n",
    "    print(f'x[{i}] = {x[i]}')"
   ]
  },
  {
   "cell_type": "code",
   "execution_count": 13,
   "id": "38f923a9",
   "metadata": {},
   "outputs": [
    {
     "name": "stdout",
     "output_type": "stream",
     "text": [
      "x[0] = John\n",
      "x[1] = George\n",
      "x[2] = Paul\n",
      "x[3] = Ringo\n"
     ]
    }
   ],
   "source": [
    "# 리스트의 모든 원소를 enumerate() 함수로 스캔하기\n",
    "\n",
    "x = ['John','George','Paul','Ringo']\n",
    "\n",
    "for i,name in enumerate(x):\n",
    "    print(f'x[{i}] = {x[i]}')"
   ]
  },
  {
   "cell_type": "markdown",
   "id": "137f298f",
   "metadata": {},
   "source": [
    "#### enumerate() 메소드 : 인덱스와원소를 짝지어 튜플로 꺼냄."
   ]
  },
  {
   "cell_type": "code",
   "execution_count": 14,
   "id": "7f766638",
   "metadata": {},
   "outputs": [
    {
     "name": "stdout",
     "output_type": "stream",
     "text": [
      "x[0] = John\n",
      "x[1] = George\n",
      "x[2] = Paul\n",
      "x[3] = Ringo\n"
     ]
    }
   ],
   "source": [
    "# 위 코드를 튜플로\n",
    "\n",
    "x = ('John','George','Paul','Ringo')\n",
    "\n",
    "for i,name in enumerate(x):\n",
    "    print(f'x[{i}] = {x[i]}')"
   ]
  },
  {
   "cell_type": "code",
   "execution_count": 16,
   "id": "8ace91fa",
   "metadata": {},
   "outputs": [
    {
     "name": "stdout",
     "output_type": "stream",
     "text": [
      "배열원소를 역순으로 정렬합니다. \n",
      "원소의 수를 입력하십시오. :7\n",
      "x[0]값을 입력하세요. :2\n",
      "x[1]값을 입력하세요. :5\n",
      "x[2]값을 입력하세요. :1\n",
      "x[3]값을 입력하세요. :3\n",
      "x[4]값을 입력하세요. :9\n",
      "x[5]값을 입력하세요. :6\n",
      "x[6]값을 입력하세요. :7\n",
      "배열 원소를 역순으로 정렬했습니다.\n",
      "x[0] = 7\n",
      "x[1] = 6\n",
      "x[2] = 9\n",
      "x[3] = 3\n",
      "x[4] = 1\n",
      "x[5] = 5\n",
      "x[6] = 2\n"
     ]
    }
   ],
   "source": [
    "# 배열 원소를 역순으로 정렬해보자\n",
    "# 뮤터블 시퀀스원소를 역순으로 정렬\n",
    "from typing import Any, MutableSequence\n",
    "\n",
    "def reverse_array(a:MutableSequence) -> None:\n",
    "    \"\"\"뮤터블 시퀀스 a의 원소를 역순으로 정렬\"\"\"\n",
    "    n = len(a)\n",
    "    for i in range(n//2):\n",
    "        a[i], a[n-i-1] = a[n-i-1], a[i]  # ★★★★★★★★역순으로 정렬 ★★★★★★★★★\n",
    "\n",
    "if __name__ == '__main__':   \n",
    "    print('배열원소를 역순으로 정렬합니다. ')\n",
    "    nx = int(input('원소의 수를 입력하십시오. :'))\n",
    "    x = [None] * nx #원소 수가 nx인 리스트 생성\n",
    "    for i in range(nx):\n",
    "        x[i] = int(input(f'x[{i}]값을 입력하세요. :'))\n",
    "    \n",
    "    reverse_array(x) # 위 함수 호출\n",
    "    \n",
    "    print('배열 원소를 역순으로 정렬했습니다.')\n",
    "    for i in range(nx):\n",
    "        print(f'x[{i}] = {x[i]}')\n",
    "        "
   ]
  },
  {
   "cell_type": "markdown",
   "id": "cc84c1c5",
   "metadata": {},
   "source": [
    "#### 리스트를 역순으로 정렬하기\n",
    "- reverse()함수이용하기 !\n",
    "- x.reverse()"
   ]
  },
  {
   "cell_type": "markdown",
   "id": "1a726e16",
   "metadata": {},
   "source": [
    "## 기수로 변환하는 프로그램"
   ]
  },
  {
   "cell_type": "code",
   "execution_count": 5,
   "id": "8c530bd2",
   "metadata": {},
   "outputs": [
    {
     "name": "stdout",
     "output_type": "stream",
     "text": [
      "1000\n"
     ]
    }
   ],
   "source": [
    "\"\"\" 10진수 정수값을 입력받아 2~36진수로 변환하여 출력하기\"\"\"\n",
    "\n",
    "def card_conv(x:int, r:int) -> str:\n",
    "    \"\"\"목표 : 정숫값 x를 r진수로 변환한 뒤 그 수를 나타내는 문자열을 반환하는 함수\"\"\"\n",
    "    \n",
    "    d = ''  # 변환 후의 <<문자열>>\n",
    "    dchar = '0123456789ABCDEFGHIJKLMNOPQRSTUVWXYZ' # 모든숫자,문자\n",
    "    \n",
    "    while x > 0:\n",
    "        d += dchar[x % r]   # <<해당하는 문자를 꺼내서 결합>>\n",
    "        x //= r\n",
    "        \n",
    "    return d[::-1] # 역순으로 반환!\n",
    "print(card_conv(8,2))"
   ]
  },
  {
   "cell_type": "markdown",
   "id": "829c3d05",
   "metadata": {},
   "source": [
    "#### 코드 해석\n",
    "- 3행 : card_conv() 함수 : 정수x를 r진수로 변환한 후 문자열로 반환하는 함수\n",
    "- 6행 : 문자열 d를 빈문자열로 초기화, 그 뒤 while문을 수행한다.\n",
    "- ★★10,11행 : x를 r로 나눈 나머지를 인덱스로 하는 문자, 곧 char[x%r]를 문자열 d에 추가한다 ★★"
   ]
  },
  {
   "cell_type": "code",
   "execution_count": 2,
   "id": "341ded99",
   "metadata": {
    "collapsed": true
   },
   "outputs": [
    {
     "name": "stdout",
     "output_type": "stream",
     "text": [
      "10진수를 n진수로 변환합니다.\n",
      "변환할 값으로 양의 정수를 입력하십시오. : 100\n",
      "어떤 진수로 변환할까요?? : 5\n"
     ]
    },
    {
     "ename": "NameError",
     "evalue": "name 'card_conv' is not defined",
     "output_type": "error",
     "traceback": [
      "\u001b[1;31m---------------------------------------------------------------------------\u001b[0m",
      "\u001b[1;31mNameError\u001b[0m                                 Traceback (most recent call last)",
      "\u001b[1;32m~\\AppData\\Local\\Temp\\ipykernel_10636\\3224217323.py\u001b[0m in \u001b[0;36m<module>\u001b[1;34m\u001b[0m\n\u001b[0;32m     12\u001b[0m                 \u001b[1;32mbreak\u001b[0m\u001b[1;33m\u001b[0m\u001b[1;33m\u001b[0m\u001b[0m\n\u001b[0;32m     13\u001b[0m \u001b[1;33m\u001b[0m\u001b[0m\n\u001b[1;32m---> 14\u001b[1;33m         \u001b[0mprint\u001b[0m\u001b[1;33m(\u001b[0m\u001b[1;34mf\"{cd}진수로는 {card_conv(no, cd)} 입니다.\"\u001b[0m\u001b[1;33m)\u001b[0m\u001b[1;33m\u001b[0m\u001b[1;33m\u001b[0m\u001b[0m\n\u001b[0m\u001b[0;32m     15\u001b[0m \u001b[1;33m\u001b[0m\u001b[0m\n\u001b[0;32m     16\u001b[0m         \u001b[0mretry\u001b[0m \u001b[1;33m=\u001b[0m \u001b[0minput\u001b[0m\u001b[1;33m(\u001b[0m\u001b[1;34m\"한 번 더 변환할까요? (Y ....예 / N ....아니요) : \"\u001b[0m\u001b[1;33m)\u001b[0m\u001b[1;33m\u001b[0m\u001b[1;33m\u001b[0m\u001b[0m\n",
      "\u001b[1;31mNameError\u001b[0m: name 'card_conv' is not defined"
     ]
    }
   ],
   "source": [
    "if __name__ == '__main__':\n",
    "    print('10진수를 n진수로 변환합니다.')\n",
    "    \n",
    "    while True:\n",
    "        while True:\n",
    "            no = int(input('변환할 값으로 양의 정수를 입력하십시오. : '))\n",
    "            if no > 0:\n",
    "                break\n",
    "        while True:  # 2~36진수의 정수값을 입력받음\n",
    "            cd = int(input('어떤 진수로 변환할까요?? : '))\n",
    "            if 2 <= cd <= 36:\n",
    "                break\n",
    "            \n",
    "        print(f\"{cd}진수로는 {card_conv(no, cd)} 입니다.\")\n",
    "          \n",
    "        retry = input(\"한 번 더 변환할까요? (Y ....예 / N ....아니요) : \")\n",
    "        if retry in {'N','n'}:\n",
    "            break"
   ]
  },
  {
   "cell_type": "markdown",
   "id": "36e50c3a",
   "metadata": {},
   "source": [
    "# : 와 -> 는 둘다 type을 설명해주는 주석\n",
    "## : 변수 자료형 ,   -> 함수 자료형"
   ]
  },
  {
   "cell_type": "code",
   "execution_count": null,
   "id": "742ae339",
   "metadata": {},
   "outputs": [
    {
     "name": "stdout",
     "output_type": "stream",
     "text": [
      "10진수를 n진수로 변환합니다.\n",
      "변환할 값으로 양의 정수를 입력하십시오. : 29\n",
      "어떤 진수로 변환할까요?? : 2\n",
      " 2 | 29]\n",
      "   +----\n",
      " 2 | 14...1\n",
      "   +----\n",
      " 2 |  7...0\n",
      "   +----\n",
      " 2 |  3...1\n",
      "   +----\n",
      " 2 |  1...1\n",
      "   +----\n",
      "      0 .... 1\n",
      "2진수로는 11101 입니다.\n"
     ]
    }
   ],
   "source": [
    "# 위 두개를 합쳐 최종 코드\n",
    "def card_conv(x:int, r:int) -> str:\n",
    "    \"\"\"목표 : 정숫값 x를 r진수로 변환한 뒤 그 수를 나타내는 문자열을 반환하는 함수\"\"\"\n",
    "    \n",
    "    d = ''  # 변환 후의 <<문자열>>\n",
    "    dchar = '0123456789ABCDEFGHIJKLMNOPQRSTUVWXYZ' # 모든숫자,문자\n",
    "    n = len(str(x))    # 변환 전 자릿수\n",
    "    \n",
    "    print(f'{r:2} | {x:{n}d}]') # r:2진수라고 주석을 단 것임\n",
    "    while x > 0:\n",
    "        print('   +' + (n+2) * '-')\n",
    "        if x//r:\n",
    "            print(f'{r:2} | {x //r:{n}d}...{x%r}')\n",
    "        else:\n",
    "            print(f'     {x // r:{n}d} .... {x %r}')\n",
    "        d += dchar[x % r]   # <<해당하는 문자를 꺼내서 결합>>\n",
    "        x //= r\n",
    "        \n",
    "    return d[::-1] # 역순으로 반환!\n",
    "\n",
    "if __name__ == '__main__':\n",
    "    print('10진수를 n진수로 변환합니다.')\n",
    "    \n",
    "    while True:\n",
    "        while True:\n",
    "            no = int(input('변환할 값으로 양의 정수를 입력하십시오. : '))\n",
    "            if no > 0:\n",
    "                break\n",
    "        while True:  # 2~36진수의 정수값을 입력받음\n",
    "            cd = int(input('어떤 진수로 변환할까요?? : '))\n",
    "            if 2 <= cd <= 36:\n",
    "                break\n",
    "            \n",
    "        print(f\"{cd}진수로는 {card_conv(no, cd)} 입니다.\")\n",
    "          \n",
    "        retry = input(\"한 번 더 변환할까요? (Y ....예 / N ....아니요) : \")\n",
    "        if retry in {'N','n'}:\n",
    "            break"
   ]
  },
  {
   "cell_type": "code",
   "execution_count": null,
   "id": "7a11848e",
   "metadata": {},
   "outputs": [],
   "source": [
    "# 위 코드 다시 짜보기"
   ]
  },
  {
   "cell_type": "code",
   "execution_count": 2,
   "id": "4ade2940",
   "metadata": {},
   "outputs": [
    {
     "name": "stdout",
     "output_type": "stream",
     "text": [
      "x의 값을 입력하세요. : 5\n",
      "1부터 5까지 정수의 합은 15입니다.\n"
     ]
    }
   ],
   "source": [
    "##### 1부터 n까지 정수의 합 구하기\n",
    "\n",
    "def sum_1ton(n):\n",
    "    \"\"\"1부터 n까지 정수의 합\"\"\"\n",
    "    s = 0\n",
    "    while n > 0:\n",
    "        s += n\n",
    "        n -= 1\n",
    "    return s\n",
    "\n",
    "x = int(input('x의 값을 입력하세요. : '))\n",
    "print(f'1부터 {x}까지 정수의 합은 {sum_1ton(x)}입니다.')"
   ]
  },
  {
   "cell_type": "code",
   "execution_count": 4,
   "id": "81b7c072",
   "metadata": {},
   "outputs": [
    {
     "name": "stdout",
     "output_type": "stream",
     "text": [
      "x = [11, 22, 33, 44, 55]\n",
      "업데이트할 인덱스를 선택하세요. : 2\n",
      "새로운 값을 입력하세요. : 99\n",
      "x = [11, 22, 99, 44, 55]\n"
     ]
    }
   ],
   "source": [
    "# 리스트에서 임의의 원솟값을 업데이트하기\n",
    "\n",
    "def change(lst, idx, val):\n",
    "    \"\"\"lst[idx]의 값을 val로 업데이트\"\"\"\n",
    "    lst [idx] = val\n",
    "\n",
    "x = [11, 22, 33, 44, 55]\n",
    "print('x =', x)\n",
    "\n",
    "index = int(input('업데이트할 인덱스를 선택하세요. : '))\n",
    "value = int(input('새로운 값을 입력하세요. : '))\n",
    "\n",
    "change(x, index, value)\n",
    "print(f'x = {x}')"
   ]
  },
  {
   "cell_type": "markdown",
   "id": "80db88ee",
   "metadata": {},
   "source": [
    "## ★ 소수 나열하기 ★"
   ]
  },
  {
   "cell_type": "code",
   "execution_count": 8,
   "id": "ff304569",
   "metadata": {},
   "outputs": [
    {
     "name": "stdout",
     "output_type": "stream",
     "text": [
      "2\n",
      "3\n",
      "5\n",
      "7\n",
      "11\n",
      "13\n",
      "17\n",
      "19\n",
      "23\n",
      "29\n",
      "31\n",
      "37\n",
      "41\n",
      "43\n",
      "47\n",
      "53\n",
      "59\n",
      "61\n",
      "67\n",
      "71\n",
      "73\n",
      "79\n",
      "83\n",
      "89\n",
      "97\n",
      "101\n",
      "103\n",
      "107\n",
      "109\n",
      "113\n",
      "127\n",
      "131\n",
      "137\n",
      "139\n",
      "149\n",
      "151\n",
      "157\n",
      "163\n",
      "167\n",
      "173\n",
      "179\n",
      "181\n",
      "191\n",
      "193\n",
      "197\n",
      "199\n",
      "211\n",
      "223\n",
      "227\n",
      "229\n",
      "233\n",
      "239\n",
      "241\n",
      "251\n",
      "257\n",
      "263\n",
      "269\n",
      "271\n",
      "277\n",
      "281\n",
      "283\n",
      "293\n",
      "307\n",
      "311\n",
      "313\n",
      "317\n",
      "331\n",
      "337\n",
      "347\n",
      "349\n",
      "353\n",
      "359\n",
      "367\n",
      "373\n",
      "379\n",
      "383\n",
      "389\n",
      "397\n",
      "401\n",
      "409\n",
      "419\n",
      "421\n",
      "431\n",
      "433\n",
      "439\n",
      "443\n",
      "449\n",
      "457\n",
      "461\n",
      "463\n",
      "467\n",
      "479\n",
      "487\n",
      "491\n",
      "499\n",
      "503\n",
      "509\n",
      "521\n",
      "523\n",
      "541\n",
      "547\n",
      "557\n",
      "563\n",
      "569\n",
      "571\n",
      "577\n",
      "587\n",
      "593\n",
      "599\n",
      "601\n",
      "607\n",
      "613\n",
      "617\n",
      "619\n",
      "631\n",
      "641\n",
      "643\n",
      "647\n",
      "653\n",
      "659\n",
      "661\n",
      "673\n",
      "677\n",
      "683\n",
      "691\n",
      "701\n",
      "709\n",
      "719\n",
      "727\n",
      "733\n",
      "739\n",
      "743\n",
      "751\n",
      "757\n",
      "761\n",
      "769\n",
      "773\n",
      "787\n",
      "797\n",
      "809\n",
      "811\n",
      "821\n",
      "823\n",
      "827\n",
      "829\n",
      "839\n",
      "853\n",
      "857\n",
      "859\n",
      "863\n",
      "877\n",
      "881\n",
      "883\n",
      "887\n",
      "907\n",
      "911\n",
      "919\n",
      "929\n",
      "937\n",
      "941\n",
      "947\n",
      "953\n",
      "967\n",
      "971\n",
      "977\n",
      "983\n",
      "991\n",
      "997\n",
      "나눗셈을 실행한 횟수: 78022\n"
     ]
    }
   ],
   "source": [
    "# 1,000 이하의 소수 나열하기\n",
    "\n",
    "counter = 0\n",
    "\n",
    "for n in range(2,1001):  # n ==> 2~1000 하나씩 up\n",
    "    for i in range(2,n):\n",
    "        counter += 1\n",
    "        if n % i == 0 : # 나누어 떨어지면 소수가아님\n",
    "            break       # 반복은 더 이상 불필요해서 중단함\n",
    "    else:               # 끝까지나누어 떨어지지 않으면 다음을 수행\n",
    "        print(n)\n",
    "print(f'나눗셈을 실행한 횟수: {counter}')\n",
    "\n",
    "# 2가 어떻게출력 되었는지 생각"
   ]
  },
  {
   "cell_type": "markdown",
   "id": "66efbf87",
   "metadata": {},
   "source": [
    "### 위 코드를 개선 ( 나누는 횟수를 줄여보자.)"
   ]
  },
  {
   "cell_type": "code",
   "execution_count": 9,
   "id": "9bd1796e",
   "metadata": {
    "collapsed": true
   },
   "outputs": [
    {
     "name": "stdout",
     "output_type": "stream",
     "text": [
      "2\n",
      "3\n",
      "5\n",
      "7\n",
      "11\n",
      "13\n",
      "17\n",
      "19\n",
      "23\n",
      "29\n",
      "31\n",
      "37\n",
      "41\n",
      "43\n",
      "47\n",
      "53\n",
      "59\n",
      "61\n",
      "67\n",
      "71\n",
      "73\n",
      "79\n",
      "83\n",
      "89\n",
      "97\n",
      "101\n",
      "103\n",
      "107\n",
      "109\n",
      "113\n",
      "127\n",
      "131\n",
      "137\n",
      "139\n",
      "149\n",
      "151\n",
      "157\n",
      "163\n",
      "167\n",
      "173\n",
      "179\n",
      "181\n",
      "191\n",
      "193\n",
      "197\n",
      "199\n",
      "211\n",
      "223\n",
      "227\n",
      "229\n",
      "233\n",
      "239\n",
      "241\n",
      "251\n",
      "257\n",
      "263\n",
      "269\n",
      "271\n",
      "277\n",
      "281\n",
      "283\n",
      "293\n",
      "307\n",
      "311\n",
      "313\n",
      "317\n",
      "331\n",
      "337\n",
      "347\n",
      "349\n",
      "353\n",
      "359\n",
      "367\n",
      "373\n",
      "379\n",
      "383\n",
      "389\n",
      "397\n",
      "401\n",
      "409\n",
      "419\n",
      "421\n",
      "431\n",
      "433\n",
      "439\n",
      "443\n",
      "449\n",
      "457\n",
      "461\n",
      "463\n",
      "467\n",
      "479\n",
      "487\n",
      "491\n",
      "499\n",
      "503\n",
      "509\n",
      "521\n",
      "523\n",
      "541\n",
      "547\n",
      "557\n",
      "563\n",
      "569\n",
      "571\n",
      "577\n",
      "587\n",
      "593\n",
      "599\n",
      "601\n",
      "607\n",
      "613\n",
      "617\n",
      "619\n",
      "631\n",
      "641\n",
      "643\n",
      "647\n",
      "653\n",
      "659\n",
      "661\n",
      "673\n",
      "677\n",
      "683\n",
      "691\n",
      "701\n",
      "709\n",
      "719\n",
      "727\n",
      "733\n",
      "739\n",
      "743\n",
      "751\n",
      "757\n",
      "761\n",
      "769\n",
      "773\n",
      "787\n",
      "797\n",
      "809\n",
      "811\n",
      "821\n",
      "823\n",
      "827\n",
      "829\n",
      "839\n",
      "853\n",
      "857\n",
      "859\n",
      "863\n",
      "877\n",
      "881\n",
      "883\n",
      "887\n",
      "907\n",
      "911\n",
      "919\n",
      "929\n",
      "937\n",
      "941\n",
      "947\n",
      "953\n",
      "967\n",
      "971\n",
      "977\n",
      "983\n",
      "991\n",
      "997\n",
      "나눗셈 횟수는14622입니다.\n"
     ]
    }
   ],
   "source": [
    "# 1,000이하 소수 나열하기\n",
    "\n",
    "counter = 0\n",
    "ptr = 0\n",
    "prime = [None] * 500\n",
    "\n",
    "prime[ptr] = 2           # 2는 소수이므로 초기값으로 지정\n",
    "ptr += 1\n",
    "\n",
    "for n in range(3,1001,2):\n",
    "    for i in range(1,ptr):\n",
    "        counter += 1\n",
    "        if n% prime[i] == 0:\n",
    "            break\n",
    "    else:\n",
    "        prime[ptr] = n  # 소수로 배열에 등록\n",
    "        ptr += 1\n",
    "\n",
    "for i in range(ptr):\n",
    "    print(prime[i])\n",
    "print(f'나눗셈 횟수는{counter}입니다.')"
   ]
  },
  {
   "cell_type": "code",
   "execution_count": null,
   "id": "03d4d105",
   "metadata": {},
   "outputs": [],
   "source": []
  },
  {
   "cell_type": "code",
   "execution_count": null,
   "id": "3a02e937",
   "metadata": {},
   "outputs": [],
   "source": []
  },
  {
   "cell_type": "code",
   "execution_count": null,
   "id": "5a68c6f5",
   "metadata": {},
   "outputs": [],
   "source": []
  },
  {
   "cell_type": "code",
   "execution_count": null,
   "id": "d5bed0ca",
   "metadata": {},
   "outputs": [],
   "source": []
  }
 ],
 "metadata": {
  "kernelspec": {
   "display_name": "Python 3 (ipykernel)",
   "language": "python",
   "name": "python3"
  },
  "language_info": {
   "codemirror_mode": {
    "name": "ipython",
    "version": 3
   },
   "file_extension": ".py",
   "mimetype": "text/x-python",
   "name": "python",
   "nbconvert_exporter": "python",
   "pygments_lexer": "ipython3",
   "version": "3.9.13"
  }
 },
 "nbformat": 4,
 "nbformat_minor": 5
}
